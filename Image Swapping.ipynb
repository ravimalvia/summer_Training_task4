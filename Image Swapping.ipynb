{
 "cells": [
  {
   "cell_type": "markdown",
   "metadata": {},
   "source": [
    "## Importing Library"
   ]
  },
  {
   "cell_type": "code",
   "execution_count": 42,
   "metadata": {},
   "outputs": [],
   "source": [
    "import numpy as np\n",
    "import cv2"
   ]
  },
  {
   "cell_type": "markdown",
   "metadata": {},
   "source": [
    "## Load Image"
   ]
  },
  {
   "cell_type": "code",
   "execution_count": 43,
   "metadata": {},
   "outputs": [],
   "source": [
    "path1=\"images/thor.jpg\"\n",
    "path2=\"images/iron.jpg\"\n",
    "thor=cv2.imread(path1)\n",
    "ironman=cv2.imread(path2)"
   ]
  },
  {
   "cell_type": "markdown",
   "metadata": {},
   "source": [
    " ## first image face crop"
   ]
  },
  {
   "cell_type": "code",
   "execution_count": 44,
   "metadata": {},
   "outputs": [],
   "source": [
    "cv2.imshow('Thunderking', thor)\n",
    "cv2.waitKey(2000)\n",
    "cv2.destroyAllWindows()\n"
   ]
  },
  {
   "cell_type": "code",
   "execution_count": 45,
   "metadata": {},
   "outputs": [
    {
     "name": "stdout",
     "output_type": "stream",
     "text": [
      "(467, 700, 3)\n"
     ]
    }
   ],
   "source": [
    "print(thor.shape)"
   ]
  },
  {
   "cell_type": "code",
   "execution_count": 46,
   "metadata": {},
   "outputs": [],
   "source": [
    "model1=cv2.CascadeClassifier('images/HarCascade/haarcascade_frontalface_default.xml')"
   ]
  },
  {
   "cell_type": "code",
   "execution_count": 47,
   "metadata": {},
   "outputs": [
    {
     "name": "stdout",
     "output_type": "stream",
     "text": [
      "[[288  76 170 170]]\n"
     ]
    }
   ],
   "source": [
    "pos=model1.detectMultiScale(thor)\n",
    "print(pos)"
   ]
  },
  {
   "cell_type": "code",
   "execution_count": 48,
   "metadata": {},
   "outputs": [
    {
     "name": "stdout",
     "output_type": "stream",
     "text": [
      "288 76 458 246\n"
     ]
    }
   ],
   "source": [
    "x1=pos[0][0]\n",
    "y1=pos[0][1]\n",
    "x2=x1+pos[0][2]\n",
    "y2=y1+pos[0][3]\n",
    "print(x1,y1,x2,y2)"
   ]
  },
  {
   "cell_type": "code",
   "execution_count": 49,
   "metadata": {},
   "outputs": [
    {
     "name": "stdout",
     "output_type": "stream",
     "text": [
      "(170, 170, 3)\n"
     ]
    }
   ],
   "source": [
    "thor_face=thor[y1:y2,x1:x2]\n",
    "print(thor_face.shape)"
   ]
  },
  {
   "cell_type": "code",
   "execution_count": 50,
   "metadata": {},
   "outputs": [],
   "source": [
    "#cv2.imshow('Thor', thor_face)\n",
    "#cv2.waitKey(2000)\n",
    "#cv2.destroyAllWindows() "
   ]
  },
  {
   "cell_type": "code",
   "execution_count": 51,
   "metadata": {},
   "outputs": [],
   "source": [
    "face_resized_thor=cv2.resize(thor_face,(int(170*2 / 2.57), int((170*2 / 2.57)) ))\n",
    "face_resized_thor.shape\n",
    "cv2.imshow('Thor face',face_resized_thor )\n",
    "cv2.waitKey(2000)\n",
    "cv2.destroyAllWindows()"
   ]
  },
  {
   "cell_type": "markdown",
   "metadata": {},
   "source": [
    "## Second image Face crop"
   ]
  },
  {
   "cell_type": "code",
   "execution_count": 52,
   "metadata": {},
   "outputs": [
    {
     "name": "stdout",
     "output_type": "stream",
     "text": [
      "(1410, 1000, 3)\n",
      "(588, 470, 3)\n"
     ]
    }
   ],
   "source": [
    "#Resize image\n",
    "ironman1=cv2.resize(ironman,(int(ironman.shape[0]/3),int(ironman.shape[1]/1.7)))\n",
    "print(ironman.shape)\n",
    "print(ironman1.shape)"
   ]
  },
  {
   "cell_type": "code",
   "execution_count": 53,
   "metadata": {},
   "outputs": [],
   "source": [
    "cv2.imshow('IronMan',ironman1)\n",
    "cv2.waitKey(2000)\n",
    "cv2.destroyAllWindows()"
   ]
  },
  {
   "cell_type": "code",
   "execution_count": 54,
   "metadata": {},
   "outputs": [],
   "source": [
    "model2=cv2.CascadeClassifier('images/HarCascade/haarcascade_frontalface_default.xml')"
   ]
  },
  {
   "cell_type": "code",
   "execution_count": 55,
   "metadata": {},
   "outputs": [
    {
     "name": "stdout",
     "output_type": "stream",
     "text": [
      "[[205  65 132 132]]\n"
     ]
    }
   ],
   "source": [
    "loc=model2.detectMultiScale(ironman1)\n",
    "print(loc)"
   ]
  },
  {
   "cell_type": "code",
   "execution_count": 56,
   "metadata": {},
   "outputs": [],
   "source": [
    "x11= loc[0][0]\n",
    "y11= loc[0][1]\n",
    "x22= x11+ loc[0][2]\n",
    "y22= y11+ loc[0][3]\n",
    "#print(x11)"
   ]
  },
  {
   "cell_type": "code",
   "execution_count": 57,
   "metadata": {},
   "outputs": [
    {
     "name": "stdout",
     "output_type": "stream",
     "text": [
      "(132, 132, 3)\n"
     ]
    }
   ],
   "source": [
    "iron_man_face=ironman1[y11:y22,x11:x22]\n",
    "print(iron_man_face.shape)"
   ]
  },
  {
   "cell_type": "code",
   "execution_count": 58,
   "metadata": {},
   "outputs": [],
   "source": [
    "#cv2.imshow('IronMan',iron_man_face)\n",
    "#cv2.waitKey(2000)\n",
    "#cv2.destroyAllWindows()"
   ]
  },
  {
   "cell_type": "code",
   "execution_count": 59,
   "metadata": {},
   "outputs": [],
   "source": [
    "face_resized_iron=cv2.resize(iron_man_face,(int(132*3 / 2.319), int((132*3 / 2.319)) ))\n",
    "face_resized_iron.shape\n",
    "cv2.imshow('Ironman_face',face_resized_iron)\n",
    "cv2.waitKey(2000)\n",
    "cv2.destroyAllWindows()"
   ]
  },
  {
   "cell_type": "markdown",
   "metadata": {},
   "source": [
    "## Let's Swap the Image"
   ]
  },
  {
   "cell_type": "code",
   "execution_count": 60,
   "metadata": {},
   "outputs": [],
   "source": [
    "#print(face_resized_iron.shape)\n",
    "#print(face_resized_thor.shape)"
   ]
  },
  {
   "cell_type": "code",
   "execution_count": 61,
   "metadata": {},
   "outputs": [],
   "source": [
    "#swap with thor's face\n",
    "thor[76:246,288:458]=face_resized_iron \n",
    "cv2.imshow('Thor with ironman face',thor)\n",
    "cv2.waitKey(2000)\n",
    "cv2.destroyAllWindows()"
   ]
  },
  {
   "cell_type": "code",
   "execution_count": 62,
   "metadata": {},
   "outputs": [],
   "source": [
    "#swap with ironman's face\n",
    "ironman1[65:197,205:337]=face_resized_thor\n",
    "cv2.imshow('Ironman with thor face',ironman1)\n",
    "cv2.waitKey(2000)\n",
    "cv2.destroyAllWindows()"
   ]
  },
  {
   "cell_type": "code",
   "execution_count": null,
   "metadata": {},
   "outputs": [],
   "source": []
  }
 ],
 "metadata": {
  "kernelspec": {
   "display_name": "Python 3",
   "language": "python",
   "name": "python3"
  },
  "language_info": {
   "codemirror_mode": {
    "name": "ipython",
    "version": 3
   },
   "file_extension": ".py",
   "mimetype": "text/x-python",
   "name": "python",
   "nbconvert_exporter": "python",
   "pygments_lexer": "ipython3",
   "version": "3.8.5"
  }
 },
 "nbformat": 4,
 "nbformat_minor": 4
}
