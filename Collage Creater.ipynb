{
 "cells": [
  {
   "cell_type": "code",
   "execution_count": 8,
   "metadata": {},
   "outputs": [],
   "source": [
    "import numpy as np"
   ]
  },
  {
   "cell_type": "code",
   "execution_count": 9,
   "metadata": {},
   "outputs": [],
   "source": [
    "import cv2"
   ]
  },
  {
   "cell_type": "code",
   "execution_count": 10,
   "metadata": {},
   "outputs": [],
   "source": [
    "p1=cv2.imread('images/image1.jpg')\n",
    "p2=cv2.imread('images/image2.jpg')\n",
    "p3=cv2.imread('images/image3.png')\n",
    "p4=cv2.imread('images/images4.jpg')\n",
    "p5=cv2.imread('images/images5.jpg')\n",
    "p6=cv2.imread('images/images7.jpg')\n",
    "p7=cv2.imread('images/images8.jpg')\n",
    "p8=cv2.imread('images/images9.jpg')"
   ]
  },
  {
   "cell_type": "code",
   "execution_count": 11,
   "metadata": {},
   "outputs": [
    {
     "name": "stdout",
     "output_type": "stream",
     "text": [
      "(299, 168, 3)\n",
      "(300, 168, 3)\n",
      "(300, 168, 3)\n",
      "(331, 152, 3)\n",
      "(300, 168, 3)\n",
      "(307, 164, 3)\n",
      "(299, 168, 3)\n",
      "(168, 300, 3)\n"
     ]
    }
   ],
   "source": [
    "print(p1.shape)\n",
    "print(p2.shape)\n",
    "print(p3.shape)\n",
    "print(p4.shape)\n",
    "print(p5.shape)\n",
    "print(p6.shape)\n",
    "print(p7.shape)\n",
    "print(p8.shape)"
   ]
  },
  {
   "cell_type": "code",
   "execution_count": 12,
   "metadata": {},
   "outputs": [
    {
     "name": "stdout",
     "output_type": "stream",
     "text": [
      "(307, 164, 3)\n",
      "(300, 168, 3)\n",
      "(300, 168, 3)\n",
      "(300, 168, 3)\n",
      "(300, 168, 3)\n",
      "(300, 168, 3)\n",
      "(300, 168, 3)\n",
      "(300, 168, 3)\n"
     ]
    }
   ],
   "source": [
    "p1=cv2.resize(p1,(168,300))\n",
    "print(p6.shape)\n",
    "p2=cv2.resize(p2,(168,300))\n",
    "print(p2.shape)\n",
    "p3=cv2.resize(p3,(168,300))\n",
    "print(p3.shape)\n",
    "p4=cv2.resize(p4,(168,300))\n",
    "print(p4.shape)\n",
    "p5=cv2.resize(p5,(168,300))\n",
    "print(p5.shape)\n",
    "p6=cv2.resize(p6,(168,300))\n",
    "print(p6.shape)\n",
    "p7=cv2.resize(p7,(168,300))\n",
    "print(p7.shape)\n",
    "p8=cv2.resize(p8,(168,300))\n",
    "print(p8.shape)"
   ]
  },
  {
   "cell_type": "code",
   "execution_count": 13,
   "metadata": {},
   "outputs": [],
   "source": [
    "merged_img1=np.hstack((p1,p2,p3,p4))\n",
    "merged_img2=np.hstack((p5,p6,p7,p8))\n",
    "stacked_image=np.vstack((merged_img1, merged_img2))"
   ]
  },
  {
   "cell_type": "code",
   "execution_count": null,
   "metadata": {},
   "outputs": [],
   "source": [
    "cv2.imshow('Merged',stacked_image)\n",
    "cv2.waitKey()\n",
    "cv2.destroyAllWindows()"
   ]
  },
  {
   "cell_type": "code",
   "execution_count": null,
   "metadata": {},
   "outputs": [],
   "source": []
  }
 ],
 "metadata": {
  "kernelspec": {
   "display_name": "Python 3",
   "language": "python",
   "name": "python3"
  },
  "language_info": {
   "codemirror_mode": {
    "name": "ipython",
    "version": 3
   },
   "file_extension": ".py",
   "mimetype": "text/x-python",
   "name": "python",
   "nbconvert_exporter": "python",
   "pygments_lexer": "ipython3",
   "version": "3.8.5"
  }
 },
 "nbformat": 4,
 "nbformat_minor": 4
}
