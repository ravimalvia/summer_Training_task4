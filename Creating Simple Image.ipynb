{
 "cells": [
  {
   "cell_type": "markdown",
   "metadata": {},
   "source": [
    "## Creating a simple Image"
   ]
  },
  {
   "cell_type": "code",
   "execution_count": 38,
   "metadata": {},
   "outputs": [
    {
     "name": "stdout",
     "output_type": "stream",
     "text": [
      "(250, 250, 3)\n",
      "(250, 250, 3)\n",
      "(250, 250, 3)\n",
      "(250, 250, 3)\n"
     ]
    }
   ],
   "source": [
    "import numpy as np\n",
    "import cv2\n",
    "\n",
    "main= np.ones([500,500,3])\n",
    "\n",
    "img1=np.ones([250,250,3])*(0,0,255)\n",
    "print(img1.shape)\n",
    "main[0:250,0:250]=img1\n",
    "\n",
    "img2=np.ones([250,250,3])*(255,0,0)\n",
    "print(img2.shape)\n",
    "main[0:250,250:500]=img2\n",
    "\n",
    "img3=np.ones([250,250,3])*(0,255,0)\n",
    "print(img3.shape)\n",
    "main[250:500,0:250]=img3\n",
    "\n",
    "img4=np.ones([250,250,3])*(255,255,0)\n",
    "print(img4.shape)\n",
    "main[250:500,250:500]=img4\n",
    "\n",
    "cv2.imshow('iam', main)\n",
    "cv2.waitKey(2000)\n",
    "cv2.destroyAllWindows()"
   ]
  },
  {
   "cell_type": "code",
   "execution_count": null,
   "metadata": {},
   "outputs": [],
   "source": []
  },
  {
   "cell_type": "code",
   "execution_count": null,
   "metadata": {},
   "outputs": [],
   "source": []
  },
  {
   "cell_type": "code",
   "execution_count": null,
   "metadata": {},
   "outputs": [],
   "source": []
  },
  {
   "cell_type": "code",
   "execution_count": null,
   "metadata": {},
   "outputs": [],
   "source": []
  },
  {
   "cell_type": "code",
   "execution_count": null,
   "metadata": {},
   "outputs": [],
   "source": []
  },
  {
   "cell_type": "code",
   "execution_count": 36,
   "metadata": {},
   "outputs": [],
   "source": []
  },
  {
   "cell_type": "code",
   "execution_count": null,
   "metadata": {},
   "outputs": [],
   "source": []
  }
 ],
 "metadata": {
  "kernelspec": {
   "display_name": "Python 3",
   "language": "python",
   "name": "python3"
  },
  "language_info": {
   "codemirror_mode": {
    "name": "ipython",
    "version": 3
   },
   "file_extension": ".py",
   "mimetype": "text/x-python",
   "name": "python",
   "nbconvert_exporter": "python",
   "pygments_lexer": "ipython3",
   "version": "3.8.5"
  }
 },
 "nbformat": 4,
 "nbformat_minor": 4
}
